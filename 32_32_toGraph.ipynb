{
 "cells": [
  {
   "cell_type": "code",
   "execution_count": 1,
   "id": "68ba511b-2024-4a5e-95fd-4b8d8389f626",
   "metadata": {},
   "outputs": [],
   "source": [
    "import spektral\n",
    "from spektral.transforms import GCNFilter\n",
    "from skimage.transform import resize\n",
    "import tensorflow as tf\n",
    "import os\n",
    "import numpy as np\n",
    "import matplotlib.pyplot as plt\n",
    "from scipy.sparse import coo_matrix\n",
    "from IPython.display import display, clear_output\n",
    "import wandb"
   ]
  },
  {
   "cell_type": "code",
   "execution_count": 2,
   "id": "6a19e5d8-d2d7-4738-81d5-c0581513429b",
   "metadata": {},
   "outputs": [],
   "source": [
    "numdat = 10000\n",
    "adddata = 40000\n",
    "    \n",
    "with open('se_s.bin','rb') as se:\n",
    "    st_ene = np.fromfile(se,dtype='float32',count=-1).reshape(32,32*50000).reshape(-1,32,32*50000,1).transpose([0,2,1,3]).reshape(-1,32,32,1)\n",
    "\n",
    "with open('vms_s.bin','rb') as vms:\n",
    "    von_st = np.fromfile(vms,dtype='float32',count=-1).reshape(32,32*50000).reshape(-1,32,32*50000,1).transpose([0,2,1,3]).reshape(-1,32,32,1)\n",
    "\n",
    "with open('/root/Non-iterative/ver.6_to128/data/vol_10k_128test.bin','rb') as vol:\n",
    "    v = np.fromfile(vol,dtype='float32',count=-1)\n",
    "    v = v.reshape(numdat,1,1,1)\n",
    "\n",
    "with open('/root/Non-iterative/ver.6_to128/data/vol_40k_128.bin','rb') as vol2:\n",
    "    v2 = np.fromfile(vol2,dtype='float32',count=-1)\n",
    "    v2 = v2.reshape(adddata,1,1,1)\n",
    "\n",
    "with open('/root/Non-iterative/ver.6_to128/data/opt_50k_32.bin','rb') as opt32:\n",
    "    optimal32 = np.fromfile(opt32,dtype='float32',count=-1).reshape(32,32*(numdat+adddata)).reshape(-1,32,32*(numdat+adddata),1).transpose([0,2,1,3]).reshape(-1,32,32,1)\n",
    "\n",
    "v = np.concatenate((v,v2),axis=0)\n",
    "v = np.ones_like(st_ene)*v"
   ]
  },
  {
   "cell_type": "code",
   "execution_count": 6,
   "id": "58423fc4-151f-410f-8b25-adb59bca425e",
   "metadata": {},
   "outputs": [],
   "source": [
    "st_ene_flat = np.reshape(st_ene,(st_ene.shape[0],32*32,1))\n",
    "von_st_flat = np.reshape(von_st,(von_st.shape[0],32*32,1))\n",
    "v_flat = np.reshape(v,(v.shape[0],32*32,1))"
   ]
  },
  {
   "cell_type": "code",
   "execution_count": 7,
   "id": "8ef2bac2-c8a7-45da-b025-a9faf8f07abf",
   "metadata": {},
   "outputs": [
    {
     "name": "stdout",
     "output_type": "stream",
     "text": [
      "(50000, 1024, 1) (50000, 1024, 1) (50000, 1024, 1) (50000, 32, 32, 1)\n"
     ]
    }
   ],
   "source": [
    "print(st_ene_flat.shape,von_st_flat.shape,v_flat.shape,optimal32.shape)"
   ]
  },
  {
   "cell_type": "code",
   "execution_count": 8,
   "id": "617170a4-dea0-464e-975d-5c86da28a4ce",
   "metadata": {},
   "outputs": [],
   "source": [
    "node_features = np.concatenate((st_ene_flat,von_st_flat,v_flat),axis=2)\n",
    "node_label = np.reshape(optimal32,(optimal32.shape[0],32*32,1))"
   ]
  },
  {
   "cell_type": "code",
   "execution_count": 9,
   "id": "cbc5adb1-f0e7-4eac-8d50-9abc0a55142b",
   "metadata": {},
   "outputs": [],
   "source": [
    "with open('adj_32_32.bin','rb') as adj:\n",
    "    A = np.fromfile(adj,dtype='float32',count=-1).reshape(1024,1024)\n",
    "    A = coo_matrix(A)"
   ]
  },
  {
   "cell_type": "code",
   "execution_count": 11,
   "id": "fef32915-1581-4def-a85e-51abc80404a4",
   "metadata": {},
   "outputs": [],
   "source": [
    "class TOP_GDATA(spektral.data.Dataset):\n",
    "    def __init__(self, nf, nl, adj, **kwargs):\n",
    "        self.nf = nf\n",
    "        self.nl = nl\n",
    "        self.adj = adj\n",
    "        super().__init__(**kwargs)\n",
    "    \n",
    "    def read(self):\n",
    "        output = []\n",
    "        for i in range(self.nf.shape[0]):\n",
    "            X = self.nf[i,:,:]\n",
    "            A = self.adj\n",
    "            Y = self.nl[i,:,:]\n",
    "            output.append(spektral.data.graph.Graph(x=X, a=A, y=Y))\n",
    "\n",
    "        return output"
   ]
  },
  {
   "cell_type": "code",
   "execution_count": 12,
   "id": "a84dcfba-6215-4b1d-a7e2-369cde2ad841",
   "metadata": {},
   "outputs": [],
   "source": [
    "dataset = TOP_GDATA(node_features,node_label,A)\n",
    "dataset.apply(GCNFilter())"
   ]
  },
  {
   "cell_type": "code",
   "execution_count": 15,
   "id": "04063ebb-df91-4185-9958-d153048c6835",
   "metadata": {},
   "outputs": [],
   "source": [
    "train_data = dataset[0:40000]\n",
    "test_data = dataset[40000:]"
   ]
  },
  {
   "cell_type": "code",
   "execution_count": 18,
   "id": "05ae9c2a-182d-440d-a754-37383536681e",
   "metadata": {},
   "outputs": [],
   "source": [
    "loader_tr = spektral.data.BatchLoader(train_data,batch_size=64)\n",
    "loader_va = spektral.data.BatchLoader(test_data,batch_size=64)"
   ]
  },
  {
   "cell_type": "code",
   "execution_count": 19,
   "id": "7e3b5993-3ccf-4b5b-80ce-b73056852211",
   "metadata": {},
   "outputs": [],
   "source": [
    "class top_model(tf.keras.models.Model):\n",
    "    def __init__(self, n_hidden):\n",
    "        super().__init__()\n",
    "        self.graph_conv1 = spektral.layers.GCNConv(channels=n_hidden)\n",
    "        self.bn1 = tf.keras.layers.BatchNormalization()\n",
    "        self.act1 = tf.keras.layers.Activation('relu')\n",
    "        self.graph_conv2 = spektral.layers.GCNConv(channels=n_hidden)\n",
    "        self.bn2 = tf.keras.layers.BatchNormalization()\n",
    "        self.act2 = tf.keras.layers.Activation('relu')\n",
    "        self.graph_conv3 = spektral.layers.GCNConv(channels=n_hidden)\n",
    "        self.bn3 = tf.keras.layers.BatchNormalization()\n",
    "        self.act3 = tf.keras.layers.Activation('relu')\n",
    "        self.graph_conv4 = spektral.layers.GCNConv(channels=n_hidden)\n",
    "        self.bn4 = tf.keras.layers.BatchNormalization()\n",
    "        self.act4 = tf.keras.layers.Activation('relu')\n",
    "        self.graph_conv5 = spektral.layers.GCNConv(channels=n_hidden)\n",
    "        self.bn5 = tf.keras.layers.BatchNormalization()\n",
    "        self.act5 = tf.keras.layers.Activation('relu')\n",
    "        self.graph_conv6 = spektral.layers.GCNConv(channels=n_hidden)\n",
    "        self.bn6 = tf.keras.layers.BatchNormalization()\n",
    "        self.act6 = tf.keras.layers.Activation('relu')\n",
    "        self.graph_conv6 = spektral.layers.GCNConv(channels=1)\n",
    "        self.bn6 = tf.keras.layers.BatchNormalization()\n",
    "        self.act6 = tf.keras.layers.Activation('sigmoid')\n",
    "\n",
    "    def call(self, inputs):\n",
    "        self.c1 = self.graph_conv1(inputs)\n",
    "        self.b1 = self.bn1(self.c1)\n",
    "        self.a1 = self.act1(self.b1)\n",
    "        self.c2 = self.graph_conv2([self.a1,inputs[1]])\n",
    "        self.b2 = self.bn2(self.c2)\n",
    "        self.a2 = self.act2(self.b2)\n",
    "        self.c3 = self.graph_conv3([self.a2,inputs[1]])\n",
    "        self.b3 = self.bn3(self.c3)\n",
    "        self.a3 = self.act3(self.b3)\n",
    "        self.c4 = self.graph_conv4([self.a3,inputs[1]])\n",
    "        self.b4 = self.bn4(self.c4)\n",
    "        self.a4 = self.act4(self.b4)\n",
    "        self.c5 = self.graph_conv5([self.a4,inputs[1]])\n",
    "        self.b5 = self.bn5(self.c5)\n",
    "        self.a5 = self.act5(self.b5)\n",
    "        self.c6 = self.graph_conv6([self.a5,inputs[1]])\n",
    "        self.b6 = self.bn6(self.c6)\n",
    "        out = self.act6(self.b6)\n",
    "\n",
    "        return out"
   ]
  },
  {
   "cell_type": "code",
   "execution_count": 20,
   "id": "321b71d4-9ee1-4524-8fb3-742ea2c490ac",
   "metadata": {},
   "outputs": [],
   "source": [
    "model = top_model(64)\n",
    "optimizer = tf.keras.optimizers.Adam()\n",
    "loss = tf.keras.losses.MeanAbsoluteError()"
   ]
  },
  {
   "cell_type": "code",
   "execution_count": 21,
   "id": "d6292efe-0d66-4dc4-b714-69fca130cd37",
   "metadata": {},
   "outputs": [],
   "source": [
    "def train_on_batch(inputs, target):\n",
    "    with tf.GradientTape() as tape:\n",
    "        predictions = model(inputs, training=True)\n",
    "        loss_mae = loss(target, predictions)\n",
    "        \n",
    "        gradients = tape.gradient(loss_mae, model.trainable_variables)\n",
    "        optimizer.apply_gradients(zip(gradients, model.trainable_variables))\n",
    "    return loss_mae\n",
    "\n",
    "def evaluate(loader):\n",
    "    step = 0\n",
    "    results = []\n",
    "    for batch in loader:\n",
    "        step += 1\n",
    "        inputs, target = batch\n",
    "        predictions = model(inputs, training=False)\n",
    "        loss_eval = loss(target, predictions)\n",
    "        results.append(loss_eval)\n",
    "        print(step)\n",
    "        clear_output(wait=True)\n",
    "        if step == loader.steps_per_epoch:\n",
    "            results_mean = np.array(np.mean(results,axis=0))\n",
    "            return results_mean"
   ]
  },
  {
   "cell_type": "code",
   "execution_count": 22,
   "id": "08819518-cedb-40cd-b1e3-c9d0ea9f98f0",
   "metadata": {},
   "outputs": [],
   "source": [
    "results_tr = []\n",
    "results_te = []\n",
    "step=0\n",
    "e=0\n",
    "\n",
    "experiment_name = \"GNN_first\"\n",
    "wandb.init(project=\"GNN_bcs2opt\",group=experiment_name,config={})\n",
    "config = wandb.config\n",
    "    \n",
    "for batch in loader_tr:\n",
    "    step += 1\n",
    "    inputs, target = batch\n",
    "    loss_tr = train_on_batch(inputs, target)\n",
    "    print('Epoch : %4d   Batch number : %4d   Training Loss : %.9f' % (e+1,step,loss_tr))\n",
    "    clear_output(wait=True)\n",
    "    \n",
    "    if step == loader_tr.steps_per_epoch:\n",
    "        e+=1\n",
    "        step = 0\n",
    "        loss_te = evaluate(loader_va)\n",
    "        results_tr.append(loss_tr)\n",
    "        results_te.append(loss_te)\n",
    "        wandb.log({\"training_loss\":loss_tr, \"test_loss\":loss_te})"
   ]
  },
  {
   "cell_type": "code",
   "execution_count": null,
   "id": "6964c900-4e06-4750-a621-e8cb97df867f",
   "metadata": {},
   "outputs": [],
   "source": [
    "def predict(loader):\n",
    "    step = 0\n",
    "    pred = []\n",
    "    for batch in loader:\n",
    "        step += 1\n",
    "        inputs, target = batch\n",
    "        predictions = model(inputs, training=False)\n",
    "        pred.append(predictions)\n",
    "        print(step)\n",
    "        clear_output(wait=True)\n",
    "        if step == loader.steps_per_epoch:\n",
    "            return pred"
   ]
  },
  {
   "cell_type": "code",
   "execution_count": null,
   "id": "184c8946-ce6b-489c-a316-2704c332653f",
   "metadata": {},
   "outputs": [],
   "source": [
    "pred_result = predict(loader_va)"
   ]
  },
  {
   "cell_type": "code",
   "execution_count": null,
   "id": "ff574e93-119f-4df2-bc08-d35073f5b40b",
   "metadata": {},
   "outputs": [],
   "source": [
    "plt.imshow(np.reshape(pred_result[0][4],(32,32)))"
   ]
  },
  {
   "cell_type": "code",
   "execution_count": null,
   "id": "e64ab85e-5799-4fc5-ac03-91e2f9f312ee",
   "metadata": {},
   "outputs": [],
   "source": []
  }
 ],
 "metadata": {
  "kernelspec": {
   "display_name": "Python 3",
   "language": "python",
   "name": "python3"
  },
  "language_info": {
   "codemirror_mode": {
    "name": "ipython",
    "version": 3
   },
   "file_extension": ".py",
   "mimetype": "text/x-python",
   "name": "python",
   "nbconvert_exporter": "python",
   "pygments_lexer": "ipython3",
   "version": "3.6.9"
  }
 },
 "nbformat": 4,
 "nbformat_minor": 5
}
